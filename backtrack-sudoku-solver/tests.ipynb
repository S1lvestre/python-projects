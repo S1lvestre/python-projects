{
 "cells": [
  {
   "cell_type": "code",
   "execution_count": 78,
   "metadata": {},
   "outputs": [
    {
     "name": "stdout",
     "output_type": "stream",
     "text": [
      "[0, 0] -> False\n",
      "[0, 1] -> [0, 0]\n",
      "[0, 2] -> [0, 0]\n",
      "[0, 3] -> [0, 2]\n",
      "[0, 4] -> [0, 3]\n",
      "[0, 5] -> [0, 4]\n",
      "[0, 6] -> [0, 5]\n",
      "[0, 7] -> [0, 5]\n",
      "[0, 8] -> [0, 5]\n",
      "\n",
      "[1, 0] -> False\n",
      "[1, 1] -> [0, 0]\n",
      "[1, 2] -> [0, 0]\n",
      "[1, 3] -> [0, 2]\n",
      "[1, 4] -> [0, 3]\n",
      "[1, 5] -> [0, 4]\n",
      "[1, 6] -> [0, 5]\n",
      "[1, 7] -> [0, 5]\n",
      "[1, 8] -> [0, 5]\n"
     ]
    }
   ],
   "source": [
    "import numpy as np\n",
    "\n",
    "def isOriginal(pos, grid):\n",
    "    if grid[pos[0]][pos[1]] != 0:\n",
    "        return True\n",
    "    return False\n",
    "\n",
    "def pickPrevious(currentPos, grid):\n",
    "    for y in range(9):\n",
    "        for x in range(9):\n",
    "            prevPos = [y, x]\n",
    "            if x == 8 and [y + 1, 0] == currentPos:\n",
    "                while isOriginal(prevPos, puzzle):\n",
    "                    prevPos = pickPrevious(prevPos, grid)\n",
    "                return prevPos\n",
    "            else:\n",
    "                if x == 0[y, x + 1] == currentPos:\n",
    "                    while isOriginal(prevPos, puzzle):\n",
    "                        prevPos = pickPrevious(prevPos, grid)\n",
    "                    return prevPos\n",
    "    return False\n",
    "\n",
    "puzzle = [[0, 4, 0, 0, 0, 0, 1, 7, 9],\n",
    "          [0, 0, 2, 0, 0, 8, 0, 5, 4],\n",
    "          [0, 0, 6, 0, 0, 5, 0, 0, 8],\n",
    "          [0, 8, 0, 0, 7, 0, 9, 1, 0],\n",
    "          [0, 5, 0, 0, 9, 0, 0, 3, 0],\n",
    "          [0, 1, 9, 0, 6, 0, 0, 4, 0],\n",
    "          [3, 0, 0, 4, 0, 0, 7, 0, 0],\n",
    "          [5, 7, 0, 1, 0, 0, 2, 0, 0],\n",
    "          [9, 2, 8, 0, 0, 0, 0, 6, 0]]\n",
    "\n",
    "#isOriginal([0,6], puzzle) # seems to be working fine\n",
    "#isOriginal(pickPrevious([0,2], puzzle), puzzle)\n",
    "\n",
    "for cenas in range(9):\n",
    "    print([0,cenas], \"->\", pickPrevious([0,cenas], puzzle))\n",
    "\n",
    "print()\n",
    "for cenas in range(9):\n",
    "    print([1,cenas], \"->\", pickPrevious([0,cenas], puzzle))"
   ]
  },
  {
   "cell_type": "code",
   "execution_count": null,
   "metadata": {},
   "outputs": [],
   "source": []
  },
  {
   "cell_type": "code",
   "execution_count": null,
   "metadata": {},
   "outputs": [],
   "source": [
    "puzzle = [[0, 4, 0, 0, 0, 0, 1, 7, 9],\n",
    "          [0, 0, 2, 0, 0, 8, 0, 5, 4],\n",
    "          [0, 0, 6, 0, 0, 5, 0, 0, 8],\n",
    "          [0, 8, 0, 0, 7, 0, 9, 1, 0],\n",
    "          [0, 5, 0, 0, 9, 0, 0, 3, 0],\n",
    "          [0, 1, 9, 0, 6, 0, 0, 4, 0],\n",
    "          [3, 0, 0, 4, 0, 0, 7, 0, 0],\n",
    "          [5, 7, 0, 1, 0, 0, 2, 0, 0],\n",
    "          [9, 2, 8, 0, 0, 0, 0, 6, 0]]"
   ]
  }
 ],
 "metadata": {
  "kernelspec": {
   "display_name": "myPython",
   "language": "python",
   "name": "mypython"
  },
  "language_info": {
   "codemirror_mode": {
    "name": "ipython",
    "version": 3
   },
   "file_extension": ".py",
   "mimetype": "text/x-python",
   "name": "python",
   "nbconvert_exporter": "python",
   "pygments_lexer": "ipython3",
   "version": "3.8.2"
  }
 },
 "nbformat": 4,
 "nbformat_minor": 4
}
