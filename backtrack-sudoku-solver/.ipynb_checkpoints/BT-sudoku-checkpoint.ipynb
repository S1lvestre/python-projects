{
 "cells": [
  {
   "cell_type": "markdown",
   "metadata": {},
   "source": [
    "# The Backtrack Algorithm:"
   ]
  },
  {
   "cell_type": "markdown",
   "metadata": {},
   "source": [
    "# Implementation  \n",
    "We only need to implement 2 functions:  \n",
    "1) Select next empty element:"
   ]
  },
  {
   "cell_type": "code",
   "execution_count": 1,
   "metadata": {},
   "outputs": [],
   "source": [
    "def pickEmpty(grid):\n",
    "    for i in range(9):\n",
    "        for j in range(9):\n",
    "            if grid[i][j] == 0:\n",
    "                return i,j\n",
    "    return False"
   ]
  },
  {
   "cell_type": "markdown",
   "metadata": {},
   "source": [
    "2) Can **_value_** be placed in **_pos_**?"
   ]
  },
  {
   "cell_type": "code",
   "execution_count": 2,
   "metadata": {},
   "outputs": [],
   "source": [
    "def isPossible(pos, value, grid):    \n",
    "    # check line\n",
    "    for a in range(9):\n",
    "        if grid[pos[0]][a] == value and pos[1] != a:\n",
    "            return False\n",
    "        \n",
    "    # check column\n",
    "    for b in range(9):\n",
    "        if grid[b][pos[1]] == value and pos[0] != b:\n",
    "            return False\n",
    "    \n",
    "    # check cell\n",
    "    y, x = (pos[0]//3)*3, (pos[1]//3)*3\n",
    "    for c in range(3):\n",
    "        for d in range(3):\n",
    "            if grid[ y + c ][ x + d ] == value and pos != [c, d]:\n",
    "                return False\n",
    "    \n",
    "    return True"
   ]
  },
  {
   "cell_type": "markdown",
   "metadata": {},
   "source": [
    "Solving:  \n",
    "1. If *pickEmpty()* returns False then we have reached the last element and the board has been solved and the functions can immediately return *True*.\n",
    "\n",
    "2. Else, we take the next *pos*ition and run through values 1-9 untill one fits.\n",
    "    1. If it fits we move on to the next empty element. Call the function again and we just find ourselves in **step 1.** again.\n",
    "        1. If no value fits, then we must backtrack: We exit the loop, clear the current element, and return *False* to the line `if solve(board):` one level above, wich makes it try the next *value* and we just find ourselves in **step 2.1.** again."
   ]
  },
  {
   "cell_type": "code",
   "execution_count": 3,
   "metadata": {},
   "outputs": [],
   "source": [
    "def solve(board):\n",
    "    if not pickEmpty(board):\n",
    "        return True\n",
    "    \n",
    "    else:\n",
    "        pos = pickEmpty(board)\n",
    "        \n",
    "        for val in range(1, 10):\n",
    "            if isPossible(pos, val, board):\n",
    "                board[pos[0]][pos[1]] = val\n",
    "                \n",
    "                if solve(board):\n",
    "                    return True\n",
    "                \n",
    "        board[pos[0]][pos[1]] = 0\n",
    "        return False"
   ]
  },
  {
   "cell_type": "markdown",
   "metadata": {},
   "source": [
    "# Results\n",
    "Right now numpy is only used to print the grid as a matrix."
   ]
  },
  {
   "cell_type": "code",
   "execution_count": 4,
   "metadata": {},
   "outputs": [
    {
     "name": "stdout",
     "output_type": "stream",
     "text": [
      "Sudoku:\n",
      "[[0 4 0 0 0 0 1 7 9]\n",
      " [0 0 2 0 0 8 0 5 4]\n",
      " [0 0 6 0 0 5 0 0 8]\n",
      " [0 8 0 0 7 0 9 1 0]\n",
      " [0 5 0 0 9 0 0 3 0]\n",
      " [0 1 9 0 6 0 0 4 0]\n",
      " [3 0 0 4 0 0 7 0 0]\n",
      " [5 7 0 1 0 0 2 0 0]\n",
      " [9 2 8 0 0 0 0 6 0]] \n",
      "\n",
      "Solution:\n",
      "[[8 4 5 6 3 2 1 7 9]\n",
      " [7 3 2 9 1 8 6 5 4]\n",
      " [1 9 6 7 4 5 3 2 8]\n",
      " [6 8 3 5 7 4 9 1 2]\n",
      " [4 5 7 2 9 1 8 3 6]\n",
      " [2 1 9 8 6 3 5 4 7]\n",
      " [3 6 1 4 2 9 7 8 5]\n",
      " [5 7 4 1 8 6 2 9 3]\n",
      " [9 2 8 3 5 7 4 6 1]]\n"
     ]
    }
   ],
   "source": [
    "import numpy as np\n",
    "\n",
    "sudoku = [[0, 4, 0, 0, 0, 0, 1, 7, 9],\n",
    "          [0, 0, 2, 0, 0, 8, 0, 5, 4],\n",
    "          [0, 0, 6, 0, 0, 5, 0, 0, 8],\n",
    "          [0, 8, 0, 0, 7, 0, 9, 1, 0],\n",
    "          [0, 5, 0, 0, 9, 0, 0, 3, 0],\n",
    "          [0, 1, 9, 0, 6, 0, 0, 4, 0],\n",
    "          [3, 0, 0, 4, 0, 0, 7, 0, 0],\n",
    "          [5, 7, 0, 1, 0, 0, 2, 0, 0],\n",
    "          [9, 2, 8, 0, 0, 0, 0, 6, 0]]\n",
    "\n",
    "print(\"Sudoku:\")\n",
    "print(np.matrix(sudoku), \"\\n\")\n",
    "\n",
    "solve(sudoku)\n",
    "\n",
    "print(\"Solution:\")\n",
    "print(np.matrix(sudoku))"
   ]
  },
  {
   "cell_type": "markdown",
   "metadata": {},
   "source": [
    "# TODO\n",
    "- [ ] Print grid in a nice way without using numpy;  \n",
    "- [ ] Read grid directly fom a .txt file;  \n",
    "- [ ] Create GUI in pygame that shows progress in real time;"
   ]
  }
 ],
 "metadata": {
  "kernelspec": {
   "display_name": "myPython",
   "language": "python",
   "name": "mypython"
  },
  "language_info": {
   "codemirror_mode": {
    "name": "ipython",
    "version": 3
   },
   "file_extension": ".py",
   "mimetype": "text/x-python",
   "name": "python",
   "nbconvert_exporter": "python",
   "pygments_lexer": "ipython3",
   "version": "3.8.2"
  }
 },
 "nbformat": 4,
 "nbformat_minor": 4
}
